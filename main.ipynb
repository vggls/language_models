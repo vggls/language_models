{
  "cells": [
    {
      "cell_type": "markdown",
      "metadata": {
        "id": "view-in-github",
        "colab_type": "text"
      },
      "source": [
        "<a href=\"https://colab.research.google.com/github/vggls/language_models/blob/main/main.ipynb\" target=\"_parent\"><img src=\"https://colab.research.google.com/assets/colab-badge.svg\" alt=\"Open In Colab\"/></a>"
      ]
    },
    {
      "cell_type": "markdown",
      "id": "f9d6956a",
      "metadata": {
        "id": "f9d6956a"
      },
      "source": [
        "### General imports for all models"
      ]
    },
    {
      "cell_type": "code",
      "execution_count": 1,
      "id": "11b7f5a2",
      "metadata": {
        "id": "11b7f5a2"
      },
      "outputs": [],
      "source": [
        "import pickle\n",
        "import matplotlib.pyplot as plt\n",
        "from collections import Counter\n",
        "import numpy as np\n",
        "import math\n",
        "#import string #string.punctuation contains punctuation symbols"
      ]
    },
    {
      "cell_type": "code",
      "execution_count": 2,
      "id": "BB5XpXe6SWiW",
      "metadata": {
        "colab": {
          "base_uri": "https://localhost:8080/"
        },
        "id": "BB5XpXe6SWiW",
        "outputId": "30c52466-ae37-4af3-c55f-bce7abe23fec"
      },
      "outputs": [
        {
          "output_type": "stream",
          "name": "stderr",
          "text": [
            "[nltk_data] Downloading package treebank to /root/nltk_data...\n",
            "[nltk_data]   Unzipping corpora/treebank.zip.\n"
          ]
        },
        {
          "output_type": "execute_result",
          "data": {
            "text/plain": [
              "True"
            ]
          },
          "metadata": {},
          "execution_count": 2
        }
      ],
      "source": [
        "# for google colab import run this cell as well\n",
        "import nltk\n",
        "nltk.download('treebank')"
      ]
    },
    {
      "cell_type": "code",
      "execution_count": 3,
      "id": "tV-3ekEQRRsP",
      "metadata": {
        "id": "tV-3ekEQRRsP"
      },
      "outputs": [],
      "source": [
        "from nltk.corpus import treebank"
      ]
    },
    {
      "cell_type": "markdown",
      "id": "5812bcd0",
      "metadata": {
        "id": "5812bcd0"
      },
      "source": [
        "### A. 3-gram language model with Laplace smoothing"
      ]
    },
    {
      "cell_type": "code",
      "execution_count": null,
      "id": "84f0bf54",
      "metadata": {
        "id": "84f0bf54"
      },
      "outputs": [],
      "source": [
        "# custom written code\n",
        "from preprocessing import lower, add_unk_tokens_for_training, replace_with_unk_for_testing, create_ngrams\n",
        "from laplace_model import count_n_grams, laplace_model, perplexity_ngram_model"
      ]
    },
    {
      "cell_type": "code",
      "execution_count": null,
      "id": "aba7fbc4",
      "metadata": {
        "colab": {
          "base_uri": "https://localhost:8080/"
        },
        "id": "aba7fbc4",
        "outputId": "4255c4c4-43ed-4732-ff41-2d560fcf7b22"
      },
      "outputs": [
        {
          "output_type": "execute_result",
          "data": {
            "text/plain": [
              "(3576, 338)"
            ]
          },
          "metadata": {},
          "execution_count": 4
        }
      ],
      "source": [
        "# Penn Treebank\n",
        "symbols_to_remove = set(['-LRB-', '-RRB-', '-LSB-', '-RSB-', '-LCB-', '-RCB-']) # parentheses\n",
        "\n",
        "train_treebank = []\n",
        "for j in range(175):\n",
        "    for i in treebank.sents(treebank.fileids()[j]):\n",
        "        l = [token for token in i if ('*' not in token) and ('\\/' not in token) and (token not in symbols_to_remove)] # Remove tokens that contain '*', '\\/' or symbols_to_remove\n",
        "        train_treebank.append(l) # Append the sentence to the training data\n",
        "\n",
        "test_treebank = []\n",
        "for j in range(175, 199):\n",
        "    for i in treebank.sents(treebank.fileids()[j]):\n",
        "        l = [token for token in i if '*' not in token and token not in symbols_to_remove]\n",
        "        test_treebank.append(l)\n",
        "\n",
        "len(train_treebank), len(test_treebank)"
      ]
    },
    {
      "cell_type": "code",
      "execution_count": null,
      "id": "86e914c7",
      "metadata": {
        "id": "86e914c7"
      },
      "outputs": [],
      "source": [
        "#lower first letter of each token\n",
        "train_tokenized_sentences = lower(train_treebank)\n",
        "test_tokenized_sentences = lower(test_treebank)"
      ]
    },
    {
      "cell_type": "code",
      "execution_count": null,
      "id": "799c8441",
      "metadata": {
        "id": "799c8441"
      },
      "outputs": [],
      "source": [
        "# insert <unk> token to training data\n",
        "train_tokenized_sentences = add_unk_tokens_for_training(train_tokenized_sentences) #replace all tokens that appear less than 3 times with <unk>"
      ]
    },
    {
      "cell_type": "code",
      "execution_count": null,
      "id": "45ad9dfc",
      "metadata": {
        "colab": {
          "base_uri": "https://localhost:8080/"
        },
        "id": "45ad9dfc",
        "outputId": "bba0dae6-9774-483a-8ebf-59868db9d201"
      },
      "outputs": [
        {
          "output_type": "execute_result",
          "data": {
            "text/plain": [
              "3466"
            ]
          },
          "metadata": {},
          "execution_count": 11
        }
      ],
      "source": [
        "vocabulary = set([item for sublist in train_tokenized_sentences for item in sublist])\n",
        "len(vocabulary)"
      ]
    },
    {
      "cell_type": "code",
      "execution_count": null,
      "id": "7c85adba",
      "metadata": {
        "colab": {
          "base_uri": "https://localhost:8080/"
        },
        "id": "7c85adba",
        "outputId": "919c3102-b69c-4c14-d430-41a058799419"
      },
      "outputs": [
        {
          "output_type": "execute_result",
          "data": {
            "text/plain": [
              "(True, False, False)"
            ]
          },
          "metadata": {},
          "execution_count": 12
        }
      ],
      "source": [
        "'<unk>' in vocabulary, '<bos>' in vocabulary, '<eos>' in vocabulary"
      ]
    },
    {
      "cell_type": "code",
      "execution_count": null,
      "id": "C6WXQ6T9ineR",
      "metadata": {
        "id": "C6WXQ6T9ineR"
      },
      "outputs": [],
      "source": [
        "# insert <unk> token to test data\n",
        "test_tokenized_sentences = replace_with_unk_for_testing(vocabulary, test_tokenized_sentences)"
      ]
    },
    {
      "cell_type": "code",
      "execution_count": null,
      "id": "xGkUYXgmH5mQ",
      "metadata": {
        "colab": {
          "base_uri": "https://localhost:8080/"
        },
        "id": "xGkUYXgmH5mQ",
        "outputId": "0278d00f-68d9-445c-bcaa-21ae1839dae5"
      },
      "outputs": [
        {
          "output_type": "execute_result",
          "data": {
            "text/plain": [
              "(90375, 93951, 8663)"
            ]
          },
          "metadata": {},
          "execution_count": 14
        }
      ],
      "source": [
        "#add <bos> and <eos> tokens and compute ngrams\n",
        "train_bigrams = create_ngrams(2, train_tokenized_sentences)\n",
        "train_trigrams = create_ngrams(3, train_tokenized_sentences)\n",
        "test_trigrams = create_ngrams(3, test_tokenized_sentences)\n",
        "\n",
        "len(train_bigrams), len(train_trigrams), len(test_trigrams)"
      ]
    },
    {
      "cell_type": "code",
      "execution_count": null,
      "id": "45022c9c",
      "metadata": {
        "colab": {
          "base_uri": "https://localhost:8080/"
        },
        "id": "45022c9c",
        "outputId": "20efdca2-8c78-4e99-a094-c3155d7fcd39"
      },
      "outputs": [
        {
          "output_type": "stream",
          "name": "stdout",
          "text": [
            "['Pierre', 'Vinken', ',', '61', 'years', 'old', ',', 'will', 'join', 'the', 'board', 'as', 'a', 'nonexecutive', 'director', 'Nov.', '29', '.'] \n",
            "\n",
            "['<unk>', '<unk>', ',', '61', 'years', 'old', ',', 'will', 'join', 'the', 'board', 'as', 'a', 'nonexecutive', 'director', 'nov.', '29', '.'] \n",
            "\n",
            "[['<bos>', '<unk>'], ['<unk>', '<unk>'], ['<unk>', ','], [',', '61'], ['61', 'years'], ['years', 'old'], ['old', ','], [',', 'will'], ['will', 'join'], ['join', 'the'], ['the', 'board'], ['board', 'as'], ['as', 'a'], ['a', 'nonexecutive'], ['nonexecutive', 'director'], ['director', 'nov.'], ['nov.', '29'], ['29', '.'], ['.', '<eos>']] \n",
            "\n",
            "[['<bos>', '<bos>', '<unk>'], ['<bos>', '<unk>', '<unk>'], ['<unk>', '<unk>', ','], ['<unk>', ',', '61'], [',', '61', 'years'], ['61', 'years', 'old'], ['years', 'old', ','], ['old', ',', 'will'], [',', 'will', 'join'], ['will', 'join', 'the'], ['join', 'the', 'board'], ['the', 'board', 'as'], ['board', 'as', 'a'], ['as', 'a', 'nonexecutive'], ['a', 'nonexecutive', 'director'], ['nonexecutive', 'director', 'nov.'], ['director', 'nov.', '29'], ['nov.', '29', '.'], ['29', '.', '<eos>'], ['.', '<eos>', '<eos>']]\n"
          ]
        }
      ],
      "source": [
        "#example of 2-grams and 3-grams extracted from the first training sentence\n",
        "print(train_treebank[0], '\\n')\n",
        "print(train_tokenized_sentences[0], '\\n')\n",
        "print(train_bigrams[:19], '\\n')\n",
        "print(train_trigrams[:20])"
      ]
    },
    {
      "cell_type": "code",
      "execution_count": null,
      "id": "91a6d6f0",
      "metadata": {
        "colab": {
          "base_uri": "https://localhost:8080/"
        },
        "id": "91a6d6f0",
        "outputId": "0ed73fb8-cd8d-43bd-dd4e-82e7b178ab65"
      },
      "outputs": [
        {
          "output_type": "stream",
          "name": "stdout",
          "text": [
            "['Xerox', 'Corp.', 'has', 'told', 'employees', 'in', 'its', 'Crum', '&', 'Forster', 'personal', 'insurance', 'operations', 'that', 'it', 'is', 'laying', 'off', 'about', '300', 'people', ',', 'or', '25', '%', 'of', 'the', 'staff', '.'] \n",
            "\n",
            "['<unk>', 'corp.', 'has', 'told', 'employees', 'in', 'its', '<unk>', '&', '<unk>', 'personal', 'insurance', 'operations', 'that', 'it', 'is', '<unk>', 'off', 'about', '300', 'people', ',', 'or', '25', '%', 'of', 'the', 'staff', '.'] \n",
            "\n",
            "[['<bos>', '<bos>', '<unk>'], ['<bos>', '<unk>', 'corp.'], ['<unk>', 'corp.', 'has'], ['corp.', 'has', 'told'], ['has', 'told', 'employees'], ['told', 'employees', 'in'], ['employees', 'in', 'its'], ['in', 'its', '<unk>'], ['its', '<unk>', '&'], ['<unk>', '&', '<unk>'], ['&', '<unk>', 'personal'], ['<unk>', 'personal', 'insurance'], ['personal', 'insurance', 'operations'], ['insurance', 'operations', 'that'], ['operations', 'that', 'it'], ['that', 'it', 'is'], ['it', 'is', '<unk>'], ['is', '<unk>', 'off'], ['<unk>', 'off', 'about'], ['off', 'about', '300'], ['about', '300', 'people'], ['300', 'people', ','], ['people', ',', 'or'], [',', 'or', '25'], ['or', '25', '%'], ['25', '%', 'of'], ['%', 'of', 'the'], ['of', 'the', 'staff'], ['the', 'staff', '.'], ['staff', '.', '<eos>'], ['.', '<eos>', '<eos>']]\n"
          ]
        }
      ],
      "source": [
        "#example of 3-grams extracted from the first test sentence\n",
        "print(test_treebank[0], '\\n')\n",
        "print(test_tokenized_sentences[0], '\\n')\n",
        "print(test_trigrams[:31])"
      ]
    },
    {
      "cell_type": "code",
      "execution_count": null,
      "id": "d778d725",
      "metadata": {
        "id": "d778d725"
      },
      "outputs": [],
      "source": [
        "#2-grams and 3-grams frequencies\n",
        "bigrams_counts = count_n_grams(train_bigrams)\n",
        "trigrams_counts = count_n_grams(train_trigrams)"
      ]
    },
    {
      "cell_type": "code",
      "source": [
        "with open('ngrams_counts.pickle', 'wb') as f:\n",
        "        pickle.dump([bigrams_counts, trigrams_counts], f)"
      ],
      "metadata": {
        "id": "OUcSSiQgLq5D"
      },
      "id": "OUcSSiQgLq5D",
      "execution_count": null,
      "outputs": []
    },
    {
      "cell_type": "code",
      "execution_count": null,
      "id": "Gql3hv_vVIcU",
      "metadata": {
        "colab": {
          "base_uri": "https://localhost:8080/"
        },
        "id": "Gql3hv_vVIcU",
        "outputId": "16e5b5ce-e5ca-474c-ede0-789c9a9fa00d"
      },
      "outputs": [
        {
          "output_type": "execute_result",
          "data": {
            "text/plain": [
              "1082.933692249023"
            ]
          },
          "metadata": {},
          "execution_count": 22
        }
      ],
      "source": [
        "perplexity_ngram_model(nminus1_grams_counts=bigrams_counts,\n",
        "                       n_grams_counts=trigrams_counts,\n",
        "                       test_n_grams=test_trigrams,\n",
        "                       vocab_size=len(vocabulary))"
      ]
    },
    {
      "cell_type": "markdown",
      "id": "8d91ea29",
      "metadata": {
        "id": "8d91ea29"
      },
      "source": [
        "### B. LSTM language model"
      ]
    },
    {
      "cell_type": "code",
      "execution_count": 4,
      "id": "55ba18ac",
      "metadata": {
        "id": "55ba18ac"
      },
      "outputs": [],
      "source": [
        "import torch\n",
        "import torch.nn as nn\n",
        "import torch.optim as optim"
      ]
    },
    {
      "cell_type": "code",
      "execution_count": 5,
      "id": "d41a1600",
      "metadata": {
        "id": "d41a1600"
      },
      "outputs": [],
      "source": [
        "#custom written code\n",
        "from preprocessing import lower, add_unk_tokens_for_training, unk_for_reduced_vocab, replace_with_unk_for_testing, tokens_to_indices\n",
        "from training import Train\n",
        "from lstm_model import LSTMModel\n",
        "from perplexity_neural import perplexity_neural_model"
      ]
    },
    {
      "cell_type": "code",
      "execution_count": 6,
      "id": "ca932ef4",
      "metadata": {
        "colab": {
          "base_uri": "https://localhost:8080/"
        },
        "id": "ca932ef4",
        "outputId": "842dfbb7-0f6f-4d7b-8f51-5381ae39cd7b"
      },
      "outputs": [
        {
          "output_type": "execute_result",
          "data": {
            "text/plain": [
              "(3262, 314, 338)"
            ]
          },
          "metadata": {},
          "execution_count": 6
        }
      ],
      "source": [
        "# Penn Treebank\n",
        "\n",
        "def load_treebank(left_limit, right_limit):\n",
        "\n",
        "    symbols_to_remove = set(['-LRB-', '-RRB-', '-LSB-', '-RSB-', '-LCB-', '-RCB-']) # parentheses\n",
        "\n",
        "    #sos_token = ['<bos>']\n",
        "    eos_token = ['<eos>']\n",
        "\n",
        "    tokenized_sentences = []\n",
        "    for j in range(left_limit, right_limit):\n",
        "        for i in treebank.sents(treebank.fileids()[j]):\n",
        "            l = [token for token in i if ('*' not in token) and ('\\/' not in token) and (token not in symbols_to_remove)]\n",
        "            l = l + eos_token\n",
        "            tokenized_sentences.append(l)\n",
        "\n",
        "    return tokenized_sentences\n",
        "\n",
        "train_treebank = load_treebank(0, 150)\n",
        "val_treebank = load_treebank(150, 175)\n",
        "test_treebank = load_treebank(175, 199)\n",
        "\n",
        "len(train_treebank), len(val_treebank), len(test_treebank)"
      ]
    },
    {
      "cell_type": "code",
      "execution_count": 7,
      "id": "80c3f077",
      "metadata": {
        "id": "80c3f077"
      },
      "outputs": [],
      "source": [
        "#lower first letter of each token\n",
        "lower_train_treebank = lower(train_treebank)\n",
        "lower_val_treebank = lower(val_treebank)\n",
        "lower_test_treebank = lower(test_treebank)"
      ]
    },
    {
      "cell_type": "code",
      "execution_count": 8,
      "id": "924e91fb",
      "metadata": {
        "id": "924e91fb"
      },
      "outputs": [],
      "source": [
        "# insert <unk> token to training data for case I model\n",
        "train_sentences_I = add_unk_tokens_for_training(lower_train_treebank) #replace all tokens that appear less than 3 times with <unk>"
      ]
    },
    {
      "cell_type": "code",
      "execution_count": 9,
      "id": "820386ec",
      "metadata": {
        "colab": {
          "base_uri": "https://localhost:8080/"
        },
        "id": "820386ec",
        "outputId": "f91cfd4f-5690-4d92-ea85-8e4240fe401d"
      },
      "outputs": [
        {
          "output_type": "execute_result",
          "data": {
            "text/plain": [
              "(3259, True, True)"
            ]
          },
          "metadata": {},
          "execution_count": 9
        }
      ],
      "source": [
        "# case I vocabulary\n",
        "vocabulary_I = set([item for sublist in train_sentences_I for item in sublist])\n",
        "len(vocabulary_I), '<unk>' in vocabulary_I, '<eos>' in vocabulary_I"
      ]
    },
    {
      "cell_type": "code",
      "source": [
        "#model architecture hyperparams - for both cases\n",
        "embedding_dim = 300\n",
        "num_layers = 2\n",
        "hidden_dim = 256\n",
        "dropout_rate = 0.3"
      ],
      "metadata": {
        "id": "zZwK1O9nv7xQ"
      },
      "id": "zZwK1O9nv7xQ",
      "execution_count": 52,
      "outputs": []
    },
    {
      "cell_type": "markdown",
      "source": [
        "#### **case I: model with learnable embeddings** (all variable names end in 'I')"
      ],
      "metadata": {
        "id": "Z12KumNdn827"
      },
      "id": "Z12KumNdn827"
    },
    {
      "cell_type": "code",
      "execution_count": 11,
      "id": "8964f5a1",
      "metadata": {
        "id": "8964f5a1",
        "colab": {
          "base_uri": "https://localhost:8080/"
        },
        "outputId": "564a6773-3095-4d91-daa1-4cb0b0450474"
      },
      "outputs": [
        {
          "output_type": "execute_result",
          "data": {
            "text/plain": [
              "(1051, 2932)"
            ]
          },
          "metadata": {},
          "execution_count": 11
        }
      ],
      "source": [
        "# not the same index assignments every time i run the cell\n",
        "word_to_index_I = {word: idx for idx, word in enumerate(vocabulary_I)}\n",
        "index_to_word_I = {idx: word for word, idx in word_to_index_I.items()}\n",
        "\n",
        "with open('caseI_word_index_mappings.pickle', 'wb') as f:\n",
        "        pickle.dump([word_to_index_I, index_to_word_I], f)\n",
        "\n",
        "word_to_index_I['<eos>'], word_to_index_I['<unk>']"
      ]
    },
    {
      "cell_type": "code",
      "execution_count": 12,
      "id": "d20c19a3",
      "metadata": {
        "colab": {
          "base_uri": "https://localhost:8080/"
        },
        "id": "d20c19a3",
        "outputId": "834c2d12-1943-49b0-8a8a-c72d30958787"
      },
      "outputs": [
        {
          "output_type": "execute_result",
          "data": {
            "text/plain": [
              "(82372, 8003, 8319)"
            ]
          },
          "metadata": {},
          "execution_count": 12
        }
      ],
      "source": [
        "# training sequence of indices\n",
        "train_int_sequence_I = tokens_to_indices(word_to_index_I, train_sentences_I)\n",
        "\n",
        "# validation sequence of indices\n",
        "val_sentences_I = replace_with_unk_for_testing(vocabulary_I, lower_val_treebank)\n",
        "val_int_sequence_I = tokens_to_indices(word_to_index_I, val_sentences_I)\n",
        "\n",
        "# testing sequence of indices\n",
        "test_sentences_I = replace_with_unk_for_testing(vocabulary_I, lower_test_treebank)\n",
        "test_int_sequence_I = tokens_to_indices(word_to_index_I, test_sentences_I)\n",
        "\n",
        "len(train_int_sequence_I), len(val_int_sequence_I), len(test_int_sequence_I)"
      ]
    },
    {
      "cell_type": "code",
      "source": [
        "len(set(train_int_sequence_I)), len(set(val_int_sequence_I)), len(set(test_int_sequence_I))"
      ],
      "metadata": {
        "colab": {
          "base_uri": "https://localhost:8080/"
        },
        "id": "NRDdI05dub1i",
        "outputId": "93b50a09-952e-483c-d0c6-189a91ca4017"
      },
      "id": "NRDdI05dub1i",
      "execution_count": 13,
      "outputs": [
        {
          "output_type": "execute_result",
          "data": {
            "text/plain": [
              "(3259, 1165, 1272)"
            ]
          },
          "metadata": {},
          "execution_count": 13
        }
      ]
    },
    {
      "cell_type": "markdown",
      "source": [
        "The following cell is used to give a brief description on how to feed a recurrent neural net. For simplicity, consider the case of the first two sentences.\n",
        "\n",
        "We recall that '< eos>' is represented by the integer 117 and '< unk>' by 1265.\n",
        "\n",
        "So if we process the data in sequences of length = 5, the model will learn as follows:\n",
        "\n",
        "- map [1265, 1265, 2327, 2788, 1826] to 3206\n",
        "- map [1265, 2327, 2788, 1826, 3206] to 2327\n",
        "- i.e. shift input by 1-step to the future and continue like this\n",
        "\n",
        "During training and validation, the sequences of (sequence_length+1)-length are fed in batches during training."
      ],
      "metadata": {
        "id": "9AV1glj8Pbob"
      },
      "id": "9AV1glj8Pbob"
    },
    {
      "cell_type": "code",
      "execution_count": 14,
      "id": "efdf6726",
      "metadata": {
        "colab": {
          "base_uri": "https://localhost:8080/"
        },
        "id": "efdf6726",
        "outputId": "e30a946d-8a07-46fc-e341-3d201056648c"
      },
      "outputs": [
        {
          "output_type": "stream",
          "name": "stdout",
          "text": [
            "['<unk>', '<unk>', ',', '61', 'years', 'old', ',', 'will', 'join', 'the', 'board', 'as', 'a', 'nonexecutive', 'director', 'nov.', '29', '.', '<eos>'] ['mr.', '<unk>', 'is', 'chairman', 'of', '<unk>', 'n.v.', ',', 'the', 'dutch', 'publishing', 'group', '.', '<eos>'] \n",
            "\n",
            "[2932, 2932, 1761, 2918, 487, 2140, 1761, 2283, 1804, 2701, 3036, 2977, 374, 798, 1247, 1272, 1253, 2264, 1051, 1810, 2932, 944, 2305, 219, 2932, 783, 1761, 2701]\n"
          ]
        }
      ],
      "source": [
        "print(train_sentences_I[0], train_sentences_I[1], '\\n')\n",
        "print(train_int_sequence_I[:28])"
      ]
    },
    {
      "cell_type": "code",
      "execution_count": 133,
      "id": "640ed70a",
      "metadata": {
        "colab": {
          "base_uri": "https://localhost:8080/"
        },
        "id": "640ed70a",
        "outputId": "88e9b954-15e4-43ef-8904-c420e2a2c240"
      },
      "outputs": [
        {
          "output_type": "stream",
          "name": "stdout",
          "text": [
            "No. of trainable parameters: 2912991\n"
          ]
        }
      ],
      "source": [
        "# Create the model, loss function, and optimizer\n",
        "vocabI_size = len(vocabulary_I)\n",
        "model = LSTMModel(vocabI_size, embedding_dim, hidden_dim, num_layers, dropout_rate, None)\n",
        "num_params = sum(p.numel() for p in model.parameters() if p.requires_grad)\n",
        "print(f'No. of trainable parameters: {num_params}')\n",
        "\n",
        "#model training hyperparams\n",
        "learning_rate = 0.001\n",
        "criterion = nn.CrossEntropyLoss()\n",
        "optimizer = optim.Adam(model.parameters(), lr=learning_rate)\n",
        "#scheduler = optim.lr_scheduler.StepLR(optimizer, step_size=3, gamma=0.5)"
      ]
    },
    {
      "cell_type": "code",
      "execution_count": 134,
      "id": "j5WVNxn_Wjog",
      "metadata": {
        "colab": {
          "base_uri": "https://localhost:8080/"
        },
        "id": "j5WVNxn_Wjog",
        "outputId": "5e009f4b-cb90-42c5-b155-5c39c08d5816"
      },
      "outputs": [
        {
          "output_type": "stream",
          "name": "stdout",
          "text": [
            "Device: cuda:0\n"
          ]
        }
      ],
      "source": [
        "instance = Train(model=model,\n",
        "                loss_fct=criterion,\n",
        "                optimizer=optimizer,\n",
        "                scheduler=None,\n",
        "                train_sequence=train_int_sequence_I,\n",
        "                val_sequence=val_int_sequence_I,\n",
        "                sequence_length=50,\n",
        "                batch_size=128,\n",
        "                epochs=30,\n",
        "                patience=10,\n",
        "                name='lstm_with_learnable_embeddings')"
      ]
    },
    {
      "cell_type": "code",
      "source": [
        "train_loss, val_loss, checkpoints = instance.training()"
      ],
      "metadata": {
        "colab": {
          "base_uri": "https://localhost:8080/"
        },
        "id": "jF3S00LHFngG",
        "outputId": "2e5a3f82-a803-4db0-9c64-223eb7401cbf"
      },
      "id": "jF3S00LHFngG",
      "execution_count": 135,
      "outputs": [
        {
          "output_type": "stream",
          "name": "stdout",
          "text": [
            "Starting training..\n",
            "Epoch: 1/50 - Perplexity: training 310.144, validation 133.036\n",
            "Epoch: 2/50 - Perplexity: training 178.727, validation 105.156 - E.S. checkpoint\n",
            "Epoch: 3/50 - Perplexity: training 135.101, validation 93.555 - E.S. checkpoint\n",
            "Epoch: 4/50 - Perplexity: training 106.588, validation 86.646 - E.S. checkpoint\n",
            "Epoch: 5/50 - Perplexity: training 85.351, validation 82.556 - E.S. checkpoint\n",
            "Epoch: 6/50 - Perplexity: training 68.566, validation 81.623 - E.S. checkpoint\n",
            "Epoch: 7/50 - Perplexity: training 55.260, validation 83.485\n",
            "Epoch: 8/50 - Perplexity: training 45.303, validation 87.138\n",
            "Epoch: 9/50 - Perplexity: training 37.053, validation 93.132\n",
            "Epoch: 10/50 - Perplexity: training 30.764, validation 100.262\n",
            "Epoch: 11/50 - Perplexity: training 25.695, validation 111.074\n",
            "Epoch: 12/50 - Perplexity: training 21.778, validation 123.306\n",
            "Epoch: 13/50 - Perplexity: training 18.626, validation 140.248\n",
            "Epoch: 14/50 - Perplexity: training 15.982, validation 155.976\n",
            "Epoch: 15/50 - Perplexity: training 13.949, validation 175.644\n",
            "Epoch: 16/50 - Perplexity: training 12.404, validation 205.427\n",
            "Training complete !\n"
          ]
        }
      ]
    },
    {
      "cell_type": "code",
      "source": [
        "instance = Train(model=model,\n",
        "                loss_fct=criterion,\n",
        "                optimizer=optimizer,\n",
        "                scheduler=None,\n",
        "                train_sequence=val_int_sequence_I,\n",
        "                val_sequence=None,\n",
        "                sequence_length=50,\n",
        "                batch_size=128,\n",
        "                epochs=6,\n",
        "                patience=None,\n",
        "                name=None)\n",
        "\n",
        "train_loss_of_val_data = instance.training()"
      ],
      "metadata": {
        "colab": {
          "base_uri": "https://localhost:8080/"
        },
        "id": "QdLfHZP7Fnit",
        "outputId": "384a6577-789d-4b70-b483-899575f9d81a"
      },
      "id": "QdLfHZP7Fnit",
      "execution_count": 136,
      "outputs": [
        {
          "output_type": "stream",
          "name": "stdout",
          "text": [
            "Device: cuda:0\n",
            "Starting training..\n",
            "No validation data is used.\n",
            "Epoch: 1/6 - Perplexity: training 159.130\n",
            "Epoch: 2/6 - Perplexity: training 52.802\n",
            "Epoch: 3/6 - Perplexity: training 30.531\n",
            "Epoch: 4/6 - Perplexity: training 20.326\n",
            "Epoch: 5/6 - Perplexity: training 14.521\n",
            "Epoch: 6/6 - Perplexity: training 10.756\n",
            "Training complete !\n"
          ]
        }
      ]
    },
    {
      "cell_type": "code",
      "source": [
        "torch.save(model, 'model_epoch6_lstm_with_learnable_embeddings.pth')"
      ],
      "metadata": {
        "id": "6NNVTsKSth10"
      },
      "id": "6NNVTsKSth10",
      "execution_count": 138,
      "outputs": []
    },
    {
      "cell_type": "code",
      "source": [
        "perplexity_neural_model(test_sequence_of_integers = test_int_sequence_I,\n",
        "                        sequence_length = 50,\n",
        "                        model = model,\n",
        "                        loss_fct = nn.CrossEntropyLoss(),\n",
        "                        vocab_size = len(vocabulary_I))"
      ],
      "metadata": {
        "colab": {
          "base_uri": "https://localhost:8080/"
        },
        "id": "OwnqNKPNFnlo",
        "outputId": "b5174874-e9b7-4915-b3be-2520d6dc0f8a"
      },
      "id": "OwnqNKPNFnlo",
      "execution_count": 137,
      "outputs": [
        {
          "output_type": "execute_result",
          "data": {
            "text/plain": [
              "248.95954826843968"
            ]
          },
          "metadata": {},
          "execution_count": 137
        }
      ]
    },
    {
      "cell_type": "code",
      "execution_count": null,
      "id": "8w-Xug5efKwP",
      "metadata": {
        "id": "8w-Xug5efKwP"
      },
      "outputs": [],
      "source": []
    },
    {
      "cell_type": "markdown",
      "id": "FMioYyfHQLFp",
      "metadata": {
        "id": "FMioYyfHQLFp"
      },
      "source": [
        "#### **case II: model with pre-trained GloVe embeddings** (all variable names end in 'II')"
      ]
    },
    {
      "cell_type": "code",
      "execution_count": 84,
      "id": "6iDwGHocxEbX",
      "metadata": {
        "colab": {
          "base_uri": "https://localhost:8080/"
        },
        "id": "6iDwGHocxEbX",
        "outputId": "c05c9c40-37b3-48a4-eac7-8a71b116b868"
      },
      "outputs": [
        {
          "output_type": "stream",
          "name": "stdout",
          "text": [
            "Mounted at /content/drive\n"
          ]
        }
      ],
      "source": [
        "from google.colab import drive\n",
        "drive.mount('/content/drive')"
      ]
    },
    {
      "cell_type": "code",
      "execution_count": 85,
      "id": "EVUA2QHuxEeV",
      "metadata": {
        "id": "EVUA2QHuxEeV"
      },
      "outputs": [],
      "source": [
        "# Load GloVe 300-dim embeddings into word_embeddings dictionary of (word,vector) pairs\n",
        "import os\n",
        "\n",
        "glove_dir ='/content/drive/MyDrive/Colab_Notebooks/language_models'\n",
        "\n",
        "word_embeddings = {} # dictionary with (word, embedding) items\n",
        "\n",
        "with open(os.path.join(glove_dir, 'glove.6B.300d.txt')) as f:\n",
        "    for line in f:\n",
        "        values = line.split()\n",
        "        word = values[0]\n",
        "        embedding = torch.tensor([float(val) for val in values[1:]])\n",
        "        word_embeddings[word] = embedding"
      ]
    },
    {
      "cell_type": "code",
      "source": [
        "# Do GloVe embeddings have representations for all tokens in the vocabulary_I?\n",
        "intersection = set(word_embeddings.keys()) & vocabulary_I\n",
        "words_not_in_glove = vocabulary_I - intersection\n",
        "len(words_not_in_glove) #'<unk>', '<eos>' included"
      ],
      "metadata": {
        "colab": {
          "base_uri": "https://localhost:8080/"
        },
        "id": "ymlO5QYnULuA",
        "outputId": "d441ccd1-692a-421a-cf26-41c90a938cb2"
      },
      "id": "ymlO5QYnULuA",
      "execution_count": 86,
      "outputs": [
        {
          "output_type": "execute_result",
          "data": {
            "text/plain": [
              "36"
            ]
          },
          "metadata": {},
          "execution_count": 86
        }
      ]
    },
    {
      "cell_type": "code",
      "source": [
        "# How to deal with words_not_in_glove ?\n",
        "# One approach, is to assign them to the '<unk>' token. This results in a reduced vocabulary.\n",
        "\n",
        "vocabulary_II = vocabulary_I - words_not_in_glove\n",
        "vocabulary_II.add('<unk>')\n",
        "vocabulary_II.add('<eos>')\n",
        "\n",
        "assert len(vocabulary_II) == len(vocabulary_I) - len(words_not_in_glove) + 2 # 3225 = 3259 - 36 + 2"
      ],
      "metadata": {
        "id": "gXO_8eZVnCl8"
      },
      "id": "gXO_8eZVnCl8",
      "execution_count": 87,
      "outputs": []
    },
    {
      "cell_type": "code",
      "source": [
        "# we replace with <unk> tokens that are not included in the vocabulary_II as well\n",
        "train_sentences_II = unk_for_reduced_vocab(train_sentences_I, vocabulary_II)"
      ],
      "metadata": {
        "id": "mKmkfvvKqazx"
      },
      "id": "mKmkfvvKqazx",
      "execution_count": 88,
      "outputs": []
    },
    {
      "cell_type": "code",
      "source": [
        "# not the same index assignments every time i run the cell\n",
        "word_to_index_II = {word: idx for idx, word in enumerate(vocabulary_II)}\n",
        "index_to_word_II = {idx: word for word, idx in word_to_index_II.items()}\n",
        "\n",
        "with open('caseII_word_index_mappings.pickle', 'wb') as f:\n",
        "        pickle.dump([word_to_index_II, index_to_word_II], f)"
      ],
      "metadata": {
        "id": "AcS9o6sLqa4H"
      },
      "id": "AcS9o6sLqa4H",
      "execution_count": 89,
      "outputs": []
    },
    {
      "cell_type": "code",
      "source": [
        "# training sequence of indices\n",
        "train_int_sequence_II = tokens_to_indices(word_to_index_II, train_sentences_II)\n",
        "\n",
        "# validation sequence of indices\n",
        "val_sentences_II = replace_with_unk_for_testing(vocabulary_II, lower_val_treebank)\n",
        "val_int_sequence_II = tokens_to_indices(word_to_index_II, val_sentences_II)\n",
        "\n",
        "# testing sequence of indices\n",
        "test_sentences_II = replace_with_unk_for_testing(vocabulary_II, lower_test_treebank)\n",
        "test_int_sequence_II = tokens_to_indices(word_to_index_II, test_sentences_II)\n",
        "\n",
        "len(train_int_sequence_II), len(val_int_sequence_II), len(test_int_sequence_II)"
      ],
      "metadata": {
        "colab": {
          "base_uri": "https://localhost:8080/"
        },
        "id": "x47fWPrVqa6w",
        "outputId": "2ef19ced-c275-4ada-ad60-923a7b0ceeb2"
      },
      "id": "x47fWPrVqa6w",
      "execution_count": 90,
      "outputs": [
        {
          "output_type": "execute_result",
          "data": {
            "text/plain": [
              "(82372, 8003, 8319)"
            ]
          },
          "metadata": {},
          "execution_count": 90
        }
      ]
    },
    {
      "cell_type": "code",
      "source": [
        "len(set(train_int_sequence_II)), len(set(val_int_sequence_II)), len(set(test_int_sequence_II))"
      ],
      "metadata": {
        "colab": {
          "base_uri": "https://localhost:8080/"
        },
        "id": "QeUyBWovuw2z",
        "outputId": "4d6c76a7-4ad0-4ef2-8c35-a7233c64a2f7"
      },
      "id": "QeUyBWovuw2z",
      "execution_count": 91,
      "outputs": [
        {
          "output_type": "execute_result",
          "data": {
            "text/plain": [
              "(3225, 1160, 1269)"
            ]
          },
          "metadata": {},
          "execution_count": 91
        }
      ]
    },
    {
      "cell_type": "code",
      "source": [
        "# Find the maximum and minimum values in GloVe vectors\n",
        "\n",
        "tensors = list(word_embeddings.values())\n",
        "\n",
        "tensors_tensor = torch.stack(tensors)\n",
        "\n",
        "max_value = torch.max(tensors_tensor)\n",
        "min_value = torch.min(tensors_tensor)\n",
        "\n",
        "max_value.item(), min_value.item()"
      ],
      "metadata": {
        "colab": {
          "base_uri": "https://localhost:8080/"
        },
        "id": "DvkzwH8zD5dC",
        "outputId": "11701022-d973-4ca3-c17d-231893bceb92"
      },
      "id": "DvkzwH8zD5dC",
      "execution_count": 107,
      "outputs": [
        {
          "output_type": "execute_result",
          "data": {
            "text/plain": [
              "(3.25819993019104, -3.0638999938964844)"
            ]
          },
          "metadata": {},
          "execution_count": 107
        }
      ]
    },
    {
      "cell_type": "code",
      "source": [
        "#create embedding layer weights\n",
        "\n",
        "vocabII_size = len(vocabulary_II)\n",
        "embeddings = torch.zeros(vocabII_size, embedding_dim)\n",
        "\n",
        "# put the glove embeddings in the embeddings matrix\n",
        "for (word, index) in word_to_index_II.items():\n",
        "    if word not in ['<unk>', '<eos>']:\n",
        "        embeddings[index] = word_embeddings[word]\n",
        "\n",
        "eos_index = word_to_index_II['<eos>']\n",
        "all_vectors = list(word_embeddings.values())\n",
        "embeddings[eos_index] = torch.mean(torch.stack(all_vectors), dim=0)\n",
        "\n",
        "unk_index = word_to_index_II['<unk>']\n",
        "embeddings[unk_index] = (max_value.item() - min_value.item()) * torch.rand(embedding_dim) + min_value.item()"
      ],
      "metadata": {
        "id": "qI2SEqyaqa9K"
      },
      "id": "qI2SEqyaqa9K",
      "execution_count": 108,
      "outputs": []
    },
    {
      "cell_type": "code",
      "execution_count": 121,
      "id": "Ae-cz8b9hSPs",
      "metadata": {
        "colab": {
          "base_uri": "https://localhost:8080/"
        },
        "id": "Ae-cz8b9hSPs",
        "outputId": "093295a7-3116-44a6-a7ed-bcd991ab3c54"
      },
      "outputs": [
        {
          "output_type": "stream",
          "name": "stdout",
          "text": [
            "No. of trainable parameters: 1926553\n"
          ]
        }
      ],
      "source": [
        "# Create the model, loss function, and optimizer\n",
        "model = LSTMModel(vocabII_size, embedding_dim, hidden_dim, num_layers, dropout_rate, embeddings)\n",
        "num_params = sum(p.numel() for p in model.parameters() if p.requires_grad)\n",
        "print(f'No. of trainable parameters: {num_params}')\n",
        "\n",
        "#model training hyperparams\n",
        "learning_rate = 0.001\n",
        "criterion = nn.CrossEntropyLoss()\n",
        "optimizer = optim.Adam(model.parameters(), lr=learning_rate)"
      ]
    },
    {
      "cell_type": "code",
      "source": [
        "instance = Train(model=model,\n",
        "                loss_fct=criterion,\n",
        "                optimizer=optimizer,\n",
        "                scheduler=None,\n",
        "                train_sequence=train_int_sequence_II,\n",
        "                val_sequence=val_int_sequence_II,\n",
        "                sequence_length=50,\n",
        "                batch_size=128,\n",
        "                epochs=30,\n",
        "                patience=10,\n",
        "                name='lstm_with_glove_embeddings')"
      ],
      "metadata": {
        "colab": {
          "base_uri": "https://localhost:8080/"
        },
        "id": "hFCrWE-q5dbD",
        "outputId": "0f8d2705-5a58-48d6-e503-9d1ab6c10c18"
      },
      "id": "hFCrWE-q5dbD",
      "execution_count": 122,
      "outputs": [
        {
          "output_type": "stream",
          "name": "stdout",
          "text": [
            "Device: cuda:0\n"
          ]
        }
      ]
    },
    {
      "cell_type": "code",
      "source": [
        "train_loss, val_loss, checkpoints = instance.training()"
      ],
      "metadata": {
        "colab": {
          "base_uri": "https://localhost:8080/"
        },
        "id": "jbOEongHH1al",
        "outputId": "b4669f6d-9180-4ec7-a024-e567f0a15030"
      },
      "id": "jbOEongHH1al",
      "execution_count": 123,
      "outputs": [
        {
          "output_type": "stream",
          "name": "stdout",
          "text": [
            "Starting training..\n",
            "Epoch: 1/50 - Perplexity: training 347.218, validation 153.147\n",
            "Epoch: 2/50 - Perplexity: training 205.620, validation 119.665 - E.S. checkpoint\n",
            "Epoch: 3/50 - Perplexity: training 158.176, validation 99.479 - E.S. checkpoint\n",
            "Epoch: 4/50 - Perplexity: training 128.392, validation 88.739 - E.S. checkpoint\n",
            "Epoch: 5/50 - Perplexity: training 107.411, validation 82.375 - E.S. checkpoint\n",
            "Epoch: 6/50 - Perplexity: training 90.900, validation 77.508 - E.S. checkpoint\n",
            "Epoch: 7/50 - Perplexity: training 78.735, validation 74.539 - E.S. checkpoint\n",
            "Epoch: 8/50 - Perplexity: training 67.797, validation 73.111 - E.S. checkpoint\n",
            "Epoch: 9/50 - Perplexity: training 59.600, validation 73.099 - E.S. checkpoint\n",
            "Epoch: 10/50 - Perplexity: training 52.220, validation 72.949 - E.S. checkpoint\n",
            "Epoch: 11/50 - Perplexity: training 46.165, validation 73.987\n",
            "Epoch: 12/50 - Perplexity: training 40.645, validation 75.250\n",
            "Epoch: 13/50 - Perplexity: training 36.464, validation 76.762\n",
            "Epoch: 14/50 - Perplexity: training 32.512, validation 79.594\n",
            "Epoch: 15/50 - Perplexity: training 29.135, validation 83.011\n",
            "Epoch: 16/50 - Perplexity: training 26.327, validation 85.903\n",
            "Epoch: 17/50 - Perplexity: training 23.850, validation 89.843\n",
            "Epoch: 18/50 - Perplexity: training 21.934, validation 91.796\n",
            "Epoch: 19/50 - Perplexity: training 20.112, validation 96.943\n",
            "Epoch: 20/50 - Perplexity: training 18.371, validation 102.302\n",
            "Training complete !\n"
          ]
        }
      ]
    },
    {
      "cell_type": "code",
      "source": [
        "instance = Train(model=model,\n",
        "                loss_fct=criterion,\n",
        "                optimizer=optimizer,\n",
        "                scheduler=None,\n",
        "                train_sequence=val_int_sequence_II,\n",
        "                val_sequence=None,\n",
        "                sequence_length=50,\n",
        "                batch_size=128,\n",
        "                epochs=10,\n",
        "                patience=None,\n",
        "                name=None)\n",
        "\n",
        "train_loss_of_val_data = instance.training()"
      ],
      "metadata": {
        "colab": {
          "base_uri": "https://localhost:8080/"
        },
        "id": "XQMYnr_TH1ek",
        "outputId": "3d904322-2d86-4308-ee51-2e57b6083c7b"
      },
      "id": "XQMYnr_TH1ek",
      "execution_count": 125,
      "outputs": [
        {
          "output_type": "stream",
          "name": "stdout",
          "text": [
            "Device: cuda:0\n",
            "Starting training..\n",
            "No validation data is used.\n",
            "Epoch: 1/10 - Perplexity: training 104.723\n",
            "Epoch: 2/10 - Perplexity: training 55.702\n",
            "Epoch: 3/10 - Perplexity: training 35.913\n",
            "Epoch: 4/10 - Perplexity: training 25.857\n",
            "Epoch: 5/10 - Perplexity: training 20.086\n",
            "Epoch: 6/10 - Perplexity: training 15.860\n",
            "Epoch: 7/10 - Perplexity: training 12.778\n",
            "Epoch: 8/10 - Perplexity: training 10.504\n",
            "Epoch: 9/10 - Perplexity: training 8.705\n",
            "Epoch: 10/10 - Perplexity: training 7.483\n",
            "Training complete !\n"
          ]
        }
      ]
    },
    {
      "cell_type": "code",
      "source": [
        "torch.save(model, 'model_epoch10_lstm_with_glove_embeddings.pth')"
      ],
      "metadata": {
        "id": "Itn-JK2AOM__"
      },
      "id": "Itn-JK2AOM__",
      "execution_count": 126,
      "outputs": []
    },
    {
      "cell_type": "code",
      "source": [
        "perplexity_neural_model(test_sequence_of_integers = test_int_sequence_II,\n",
        "                        sequence_length = 50,\n",
        "                        model = model,\n",
        "                        loss_fct = nn.CrossEntropyLoss(),\n",
        "                        vocab_size = len(vocabulary_II))"
      ],
      "metadata": {
        "colab": {
          "base_uri": "https://localhost:8080/"
        },
        "id": "Z_0x3x49H1ia",
        "outputId": "0a3175ab-1adb-4b90-a046-21fb159ceae6"
      },
      "id": "Z_0x3x49H1ia",
      "execution_count": 127,
      "outputs": [
        {
          "output_type": "execute_result",
          "data": {
            "text/plain": [
              "195.7221341660012"
            ]
          },
          "metadata": {},
          "execution_count": 127
        }
      ]
    },
    {
      "cell_type": "code",
      "source": [],
      "metadata": {
        "id": "t8u98WF2H1lz"
      },
      "id": "t8u98WF2H1lz",
      "execution_count": null,
      "outputs": []
    },
    {
      "cell_type": "markdown",
      "id": "da2fd2ac",
      "metadata": {
        "id": "da2fd2ac"
      },
      "source": [
        "### C. Transformer"
      ]
    },
    {
      "cell_type": "code",
      "execution_count": null,
      "id": "eb9d9c82",
      "metadata": {
        "id": "eb9d9c82"
      },
      "outputs": [],
      "source": []
    },
    {
      "cell_type": "code",
      "execution_count": null,
      "id": "4db639c2",
      "metadata": {
        "id": "4db639c2"
      },
      "outputs": [],
      "source": []
    },
    {
      "cell_type": "code",
      "execution_count": null,
      "id": "81a6c501",
      "metadata": {
        "id": "81a6c501"
      },
      "outputs": [],
      "source": []
    },
    {
      "cell_type": "markdown",
      "id": "72762156",
      "metadata": {
        "id": "72762156"
      },
      "source": [
        "### D. Discussion (Results analysis, Comparisons & Text generation)"
      ]
    },
    {
      "cell_type": "code",
      "execution_count": null,
      "id": "b3c9b5fe",
      "metadata": {
        "id": "b3c9b5fe"
      },
      "outputs": [],
      "source": []
    },
    {
      "cell_type": "code",
      "execution_count": null,
      "id": "4f8ebf1f",
      "metadata": {
        "id": "4f8ebf1f"
      },
      "outputs": [],
      "source": []
    }
  ],
  "metadata": {
    "colab": {
      "collapsed_sections": [
        "f9d6956a",
        "5812bcd0",
        "da2fd2ac",
        "72762156"
      ],
      "provenance": [],
      "gpuType": "T4",
      "include_colab_link": true
    },
    "kernelspec": {
      "display_name": "Python 3",
      "name": "python3"
    },
    "language_info": {
      "codemirror_mode": {
        "name": "ipython",
        "version": 3
      },
      "file_extension": ".py",
      "mimetype": "text/x-python",
      "name": "python",
      "nbconvert_exporter": "python",
      "pygments_lexer": "ipython3",
      "version": "3.8.8"
    },
    "accelerator": "GPU"
  },
  "nbformat": 4,
  "nbformat_minor": 5
}