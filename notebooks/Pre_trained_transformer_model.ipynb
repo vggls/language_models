{
  "cells": [
    {
      "cell_type": "markdown",
      "metadata": {
        "id": "view-in-github",
        "colab_type": "text"
      },
      "source": [
        "<a href=\"https://colab.research.google.com/github/vggls/language_models/blob/main/notebooks/Pre_trained_transformer_model.ipynb\" target=\"_parent\"><img src=\"https://colab.research.google.com/assets/colab-badge.svg\" alt=\"Open In Colab\"/></a>"
      ]
    },
    {
      "cell_type": "markdown",
      "source": [
        "#### Imports"
      ],
      "metadata": {
        "id": "Wsx0uoUNy0-Q"
      },
      "id": "Wsx0uoUNy0-Q"
    },
    {
      "cell_type": "code",
      "execution_count": null,
      "id": "11b7f5a2",
      "metadata": {
        "id": "11b7f5a2"
      },
      "outputs": [],
      "source": [
        "import pickle\n",
        "import matplotlib.pyplot as plt\n",
        "from collections import Counter\n",
        "import numpy as np\n",
        "import math\n",
        "#import string #string.punctuation contains punctuation symbols"
      ]
    },
    {
      "cell_type": "code",
      "execution_count": null,
      "id": "BB5XpXe6SWiW",
      "metadata": {
        "colab": {
          "base_uri": "https://localhost:8080/"
        },
        "id": "BB5XpXe6SWiW",
        "outputId": "80d55619-9d61-40c0-a63f-655379645298"
      },
      "outputs": [
        {
          "output_type": "stream",
          "name": "stderr",
          "text": [
            "[nltk_data] Downloading package treebank to /root/nltk_data...\n",
            "[nltk_data]   Unzipping corpora/treebank.zip.\n"
          ]
        },
        {
          "output_type": "execute_result",
          "data": {
            "text/plain": [
              "True"
            ]
          },
          "metadata": {},
          "execution_count": 2
        }
      ],
      "source": [
        "# for google colab import run this cell as well\n",
        "import nltk\n",
        "nltk.download('treebank')"
      ]
    },
    {
      "cell_type": "code",
      "execution_count": null,
      "id": "tV-3ekEQRRsP",
      "metadata": {
        "id": "tV-3ekEQRRsP"
      },
      "outputs": [],
      "source": [
        "from nltk.corpus import treebank"
      ]
    },
    {
      "cell_type": "code",
      "execution_count": null,
      "id": "55ba18ac",
      "metadata": {
        "id": "55ba18ac"
      },
      "outputs": [],
      "source": [
        "import torch\n",
        "import torch.nn as nn\n",
        "import torch.optim as optim\n",
        "from transformers import GPT2LMHeadModel"
      ]
    },
    {
      "cell_type": "code",
      "execution_count": null,
      "id": "d41a1600",
      "metadata": {
        "id": "d41a1600"
      },
      "outputs": [],
      "source": [
        "#custom written code\n",
        "from preprocessing import lower, add_unk_tokens_for_training, unk_for_reduced_vocab, replace_with_unk_for_testing, tokens_to_indices\n",
        "from training import Train\n",
        "from perplexity import perplexity_network_model"
      ]
    },
    {
      "cell_type": "markdown",
      "source": [
        "#### Dataset and Preprocessing"
      ],
      "metadata": {
        "id": "31j9CXE8zBqm"
      },
      "id": "31j9CXE8zBqm"
    },
    {
      "cell_type": "code",
      "source": [
        "# Penn Treebank\n",
        "\n",
        "def load_treebank(left_limit, right_limit):\n",
        "\n",
        "    symbols_to_remove = set(['-LRB-', '-RRB-', '-LSB-', '-RSB-', '-LCB-', '-RCB-']) # parentheses\n",
        "\n",
        "    #sos_token = ['<bos>']\n",
        "    eos_token = ['<eos>']\n",
        "\n",
        "    tokenized_sentences = []\n",
        "    for j in range(left_limit, right_limit):\n",
        "        for i in treebank.sents(treebank.fileids()[j]):\n",
        "            l = [token for token in i if ('*' not in token) and ('\\/' not in token) and (token not in symbols_to_remove)]\n",
        "            l = l + eos_token\n",
        "            tokenized_sentences.append(l)\n",
        "\n",
        "    return tokenized_sentences"
      ],
      "metadata": {
        "id": "gtuhGfTy-a6J"
      },
      "id": "gtuhGfTy-a6J",
      "execution_count": null,
      "outputs": []
    },
    {
      "cell_type": "code",
      "execution_count": null,
      "id": "ca932ef4",
      "metadata": {
        "colab": {
          "base_uri": "https://localhost:8080/"
        },
        "id": "ca932ef4",
        "outputId": "fd39d83e-8ba6-4bbb-e264-871844581be9"
      },
      "outputs": [
        {
          "output_type": "execute_result",
          "data": {
            "text/plain": [
              "(3262, 314, 338)"
            ]
          },
          "metadata": {},
          "execution_count": 7
        }
      ],
      "source": [
        "train_treebank = load_treebank(0, 150)\n",
        "val_treebank = load_treebank(150, 175)\n",
        "test_treebank = load_treebank(175, 199)\n",
        "\n",
        "len(train_treebank), len(val_treebank), len(test_treebank)"
      ]
    },
    {
      "cell_type": "code",
      "execution_count": null,
      "id": "80c3f077",
      "metadata": {
        "id": "80c3f077"
      },
      "outputs": [],
      "source": [
        "#lower first letter of each token\n",
        "lower_train_treebank = lower(train_treebank)\n",
        "lower_val_treebank = lower(val_treebank)\n",
        "lower_test_treebank = lower(test_treebank)"
      ]
    },
    {
      "cell_type": "code",
      "execution_count": null,
      "id": "924e91fb",
      "metadata": {
        "id": "924e91fb"
      },
      "outputs": [],
      "source": [
        "# insert <unk> token to training data for case I model\n",
        "train_sentences = add_unk_tokens_for_training(lower_train_treebank) #replace all tokens that appear less than 3 times with <unk>"
      ]
    },
    {
      "cell_type": "code",
      "execution_count": null,
      "id": "820386ec",
      "metadata": {
        "colab": {
          "base_uri": "https://localhost:8080/"
        },
        "id": "820386ec",
        "outputId": "38377b7b-e7dd-419b-e47d-3cd642df89a1"
      },
      "outputs": [
        {
          "output_type": "execute_result",
          "data": {
            "text/plain": [
              "(3259, True, True)"
            ]
          },
          "metadata": {},
          "execution_count": 10
        }
      ],
      "source": [
        "# case I vocabulary\n",
        "vocabulary = set([item for sublist in train_sentences for item in sublist])\n",
        "len(vocabulary), '<unk>' in vocabulary, '<eos>' in vocabulary"
      ]
    },
    {
      "cell_type": "code",
      "source": [
        "# not the same index assignments every time i run the cell\n",
        "word_to_index = {word: idx for idx, word in enumerate(vocabulary)}\n",
        "index_to_word = {idx: word for word, idx in word_to_index.items()}\n",
        "\n",
        "with open('transformer_word_index_mappings.pickle', 'wb') as f:\n",
        "        pickle.dump([word_to_index, index_to_word], f)\n",
        "\n",
        "word_to_index['<eos>'], word_to_index['<unk>']"
      ],
      "metadata": {
        "colab": {
          "base_uri": "https://localhost:8080/"
        },
        "id": "8N-fgNeJ5APh",
        "outputId": "4e3f9769-5722-4526-a9b7-15c9843d0902"
      },
      "id": "8N-fgNeJ5APh",
      "execution_count": null,
      "outputs": [
        {
          "output_type": "execute_result",
          "data": {
            "text/plain": [
              "(3002, 302)"
            ]
          },
          "metadata": {},
          "execution_count": 11
        }
      ]
    },
    {
      "cell_type": "code",
      "execution_count": null,
      "id": "d20c19a3",
      "metadata": {
        "colab": {
          "base_uri": "https://localhost:8080/"
        },
        "id": "d20c19a3",
        "outputId": "ebcfa059-f38c-477a-b60b-e34649b225bc"
      },
      "outputs": [
        {
          "output_type": "execute_result",
          "data": {
            "text/plain": [
              "(82372, 8003, 8319)"
            ]
          },
          "metadata": {},
          "execution_count": 12
        }
      ],
      "source": [
        "# training sequence of indices\n",
        "train_int_sequence = tokens_to_indices(word_to_index, train_sentences)\n",
        "\n",
        "# validation sequence of indices\n",
        "val_sentences = replace_with_unk_for_testing(vocabulary, lower_val_treebank)\n",
        "val_int_sequence = tokens_to_indices(word_to_index, val_sentences)\n",
        "\n",
        "# testing sequence of indices\n",
        "test_sentences = replace_with_unk_for_testing(vocabulary, lower_test_treebank)\n",
        "test_int_sequence = tokens_to_indices(word_to_index, test_sentences)\n",
        "\n",
        "len(train_int_sequence), len(val_int_sequence), len(test_int_sequence)"
      ]
    },
    {
      "cell_type": "code",
      "source": [
        "len(set(train_int_sequence)), len(set(val_int_sequence)), len(set(test_int_sequence))"
      ],
      "metadata": {
        "colab": {
          "base_uri": "https://localhost:8080/"
        },
        "id": "NRDdI05dub1i",
        "outputId": "7eb8acc7-4df9-43cf-94dc-c3dfbf465d11"
      },
      "id": "NRDdI05dub1i",
      "execution_count": null,
      "outputs": [
        {
          "output_type": "execute_result",
          "data": {
            "text/plain": [
              "(3259, 1165, 1272)"
            ]
          },
          "metadata": {},
          "execution_count": 13
        }
      ]
    },
    {
      "cell_type": "markdown",
      "source": [
        "The following cell is used to give a brief description on how to feed a recurrent neural net. For simplicity, we consider the case of the first two sentences.\n",
        "\n",
        "Recall that '< eos>' is represented by the integer 3002 and '< unk>' by 302.\n",
        "\n",
        "So if we process the data in sequences of length = 5, the model will learn as follows:\n",
        "\n",
        "- map [302, 302, 3075, 1564, 365] to [302, 3075, 1564, 365, 1986]\n",
        "- map [302, 3075, 1564, 365, 1986] to [3075, 1564, 365, 1986, 3075]\n",
        "- i.e. shift by 1-step to the future and continue like this\n",
        "\n",
        "During training and validation, the sequences of (sequence_length+1)-length are fed in batches during training."
      ],
      "metadata": {
        "id": "9AV1glj8Pbob"
      },
      "id": "9AV1glj8Pbob"
    },
    {
      "cell_type": "code",
      "execution_count": null,
      "id": "efdf6726",
      "metadata": {
        "colab": {
          "base_uri": "https://localhost:8080/"
        },
        "id": "efdf6726",
        "outputId": "0298290c-2658-4fa6-beae-e1c59e486434"
      },
      "outputs": [
        {
          "output_type": "stream",
          "name": "stdout",
          "text": [
            "['<unk>', '<unk>', ',', '61', 'years', 'old', ',', 'will', 'join', 'the', 'board', 'as', 'a', 'nonexecutive', 'director', 'nov.', '29', '.', '<eos>'] ['mr.', '<unk>', 'is', 'chairman', 'of', '<unk>', 'n.v.', ',', 'the', 'dutch', 'publishing', 'group', '.', '<eos>'] \n",
            "\n",
            "[302, 302, 3075, 1564, 365, 1986, 3075, 2920, 348, 1471, 2255, 1690, 2778, 1890, 2824, 69, 18, 2901, 3002, 1342, 302, 2578, 1226, 2067, 302, 1445, 3075, 1471]\n"
          ]
        }
      ],
      "source": [
        "print(train_sentences[0], train_sentences[1], '\\n')\n",
        "print(train_int_sequence[:28])"
      ]
    },
    {
      "cell_type": "markdown",
      "source": [
        "#### Model"
      ],
      "metadata": {
        "id": "xYv2hbTxzGjj"
      },
      "id": "xYv2hbTxzGjj"
    },
    {
      "cell_type": "code",
      "execution_count": null,
      "id": "eb9d9c82",
      "metadata": {
        "id": "eb9d9c82"
      },
      "outputs": [],
      "source": [
        "gpt2_model = GPT2LMHeadModel.from_pretrained(\"gpt2\")"
      ]
    },
    {
      "cell_type": "code",
      "execution_count": null,
      "id": "4db639c2",
      "metadata": {
        "id": "4db639c2",
        "colab": {
          "base_uri": "https://localhost:8080/"
        },
        "outputId": "dc55e011-a93d-4326-c834-50e7c133e28c"
      },
      "outputs": [
        {
          "output_type": "execute_result",
          "data": {
            "text/plain": [
              "GPT2LMHeadModel(\n",
              "  (transformer): GPT2Model(\n",
              "    (wte): Embedding(50257, 768)\n",
              "    (wpe): Embedding(1024, 768)\n",
              "    (drop): Dropout(p=0.1, inplace=False)\n",
              "    (h): ModuleList(\n",
              "      (0-11): 12 x GPT2Block(\n",
              "        (ln_1): LayerNorm((768,), eps=1e-05, elementwise_affine=True)\n",
              "        (attn): GPT2Attention(\n",
              "          (c_attn): Conv1D()\n",
              "          (c_proj): Conv1D()\n",
              "          (attn_dropout): Dropout(p=0.1, inplace=False)\n",
              "          (resid_dropout): Dropout(p=0.1, inplace=False)\n",
              "        )\n",
              "        (ln_2): LayerNorm((768,), eps=1e-05, elementwise_affine=True)\n",
              "        (mlp): GPT2MLP(\n",
              "          (c_fc): Conv1D()\n",
              "          (c_proj): Conv1D()\n",
              "          (act): NewGELUActivation()\n",
              "          (dropout): Dropout(p=0.1, inplace=False)\n",
              "        )\n",
              "      )\n",
              "    )\n",
              "    (ln_f): LayerNorm((768,), eps=1e-05, elementwise_affine=True)\n",
              "  )\n",
              "  (lm_head): Linear(in_features=768, out_features=50257, bias=False)\n",
              ")"
            ]
          },
          "metadata": {},
          "execution_count": 64
        }
      ],
      "source": [
        "gpt2_model # 768 = embeddings size (hyperparam)"
      ]
    },
    {
      "cell_type": "code",
      "source": [
        "print('No. of trainable params', sum(p.numel() for p in gpt2_model.parameters() if p.requires_grad))"
      ],
      "metadata": {
        "colab": {
          "base_uri": "https://localhost:8080/"
        },
        "id": "9kQ6D0Ds-8bX",
        "outputId": "95c3b9b0-5028-4ff4-9df9-f1319b874488"
      },
      "id": "9kQ6D0Ds-8bX",
      "execution_count": null,
      "outputs": [
        {
          "output_type": "stream",
          "name": "stdout",
          "text": [
            "No. of trainable params 124439808\n"
          ]
        }
      ]
    },
    {
      "cell_type": "markdown",
      "source": [
        "**run ONE of the following two cells**"
      ],
      "metadata": {
        "id": "DSpIiyQBzBN3"
      },
      "id": "DSpIiyQBzBN3"
    },
    {
      "cell_type": "code",
      "source": [
        "# Freeze ALL the transformer parameters\n",
        "for param in gpt2_model.transformer.parameters():\n",
        "      param.requires_grad = False"
      ],
      "metadata": {
        "id": "2lpATO44-8hD"
      },
      "id": "2lpATO44-8hD",
      "execution_count": null,
      "outputs": []
    },
    {
      "cell_type": "code",
      "source": [
        "'''\n",
        "# Freeze the transformer parameters\n",
        "\n",
        "for layer in [gpt2_model.transformer.wte, gpt2_model.transformer.wpe]:\n",
        "    for param in layer.parameters():\n",
        "        param.requires_grad = False\n",
        "\n",
        "for block_index in range(10):\n",
        "    for param in gpt2_model.transformer.h[block_index].parameters():\n",
        "        param.requires_grad = False"
      ],
      "metadata": {
        "id": "sPq94yt8wX6s"
      },
      "id": "sPq94yt8wX6s",
      "execution_count": null,
      "outputs": []
    },
    {
      "cell_type": "code",
      "source": [
        "# The parameters of both the transformer and the head are part of the overall model parameters. Thus now result should be 0.\n",
        "print('No. of trainable params', sum(p.numel() for p in gpt2_model.transformer.parameters() if p.requires_grad))"
      ],
      "metadata": {
        "colab": {
          "base_uri": "https://localhost:8080/"
        },
        "id": "J89uBN_3CJYG",
        "outputId": "4224b635-1f6a-43f5-bf85-1b2d39730e27"
      },
      "id": "J89uBN_3CJYG",
      "execution_count": null,
      "outputs": [
        {
          "output_type": "stream",
          "name": "stdout",
          "text": [
            "No. of trainable params 0\n"
          ]
        }
      ]
    },
    {
      "cell_type": "code",
      "source": [
        "# create new head\n",
        "gpt2_model.lm_head = nn.Linear(in_features=768, out_features=len(vocabulary), bias=False)"
      ],
      "metadata": {
        "id": "k3LtztpeFrlz"
      },
      "id": "k3LtztpeFrlz",
      "execution_count": null,
      "outputs": []
    },
    {
      "cell_type": "code",
      "source": [
        "gpt2_model #visualize to verify that the nn.Linear layer is succesfully inserted"
      ],
      "metadata": {
        "colab": {
          "base_uri": "https://localhost:8080/"
        },
        "id": "YJentJ5sGDa9",
        "outputId": "b52f32df-994d-4bf4-c246-ecdf6b38fe6e"
      },
      "id": "YJentJ5sGDa9",
      "execution_count": null,
      "outputs": [
        {
          "output_type": "execute_result",
          "data": {
            "text/plain": [
              "GPT2LMHeadModel(\n",
              "  (transformer): GPT2Model(\n",
              "    (wte): Embedding(50257, 768)\n",
              "    (wpe): Embedding(1024, 768)\n",
              "    (drop): Dropout(p=0.1, inplace=False)\n",
              "    (h): ModuleList(\n",
              "      (0-11): 12 x GPT2Block(\n",
              "        (ln_1): LayerNorm((768,), eps=1e-05, elementwise_affine=True)\n",
              "        (attn): GPT2Attention(\n",
              "          (c_attn): Conv1D()\n",
              "          (c_proj): Conv1D()\n",
              "          (attn_dropout): Dropout(p=0.1, inplace=False)\n",
              "          (resid_dropout): Dropout(p=0.1, inplace=False)\n",
              "        )\n",
              "        (ln_2): LayerNorm((768,), eps=1e-05, elementwise_affine=True)\n",
              "        (mlp): GPT2MLP(\n",
              "          (c_fc): Conv1D()\n",
              "          (c_proj): Conv1D()\n",
              "          (act): NewGELUActivation()\n",
              "          (dropout): Dropout(p=0.1, inplace=False)\n",
              "        )\n",
              "      )\n",
              "    )\n",
              "    (ln_f): LayerNorm((768,), eps=1e-05, elementwise_affine=True)\n",
              "  )\n",
              "  (lm_head): Linear(in_features=768, out_features=3259, bias=False)\n",
              ")"
            ]
          },
          "metadata": {},
          "execution_count": 69
        }
      ]
    },
    {
      "cell_type": "code",
      "source": [
        "# Trainable parameters including the new ones inserted by the nn.Linear layer\n",
        "print('No. of trainable params', sum(p.numel() for p in gpt2_model.parameters() if p.requires_grad))"
      ],
      "metadata": {
        "colab": {
          "base_uri": "https://localhost:8080/"
        },
        "id": "5FK36sb9Fr3f",
        "outputId": "c545fc39-1033-4106-a667-cf6ad52e2524"
      },
      "id": "5FK36sb9Fr3f",
      "execution_count": null,
      "outputs": [
        {
          "output_type": "stream",
          "name": "stdout",
          "text": [
            "No. of trainable params 2502912\n"
          ]
        }
      ]
    },
    {
      "cell_type": "code",
      "source": [
        "learning_rate = 0.001\n",
        "criterion = nn.CrossEntropyLoss()\n",
        "optimizer = optim.Adam(gpt2_model.parameters(), lr=learning_rate)\n",
        "scheduler = optim.lr_scheduler.StepLR(optimizer, step_size=3, gamma=0.5)"
      ],
      "metadata": {
        "id": "GzhIz2PeGEj1"
      },
      "id": "GzhIz2PeGEj1",
      "execution_count": null,
      "outputs": []
    },
    {
      "cell_type": "code",
      "source": [
        "instance = Train(model=gpt2_model,\n",
        "                model_type = 'transformer',\n",
        "                loss_fct=criterion,\n",
        "                optimizer=optimizer,\n",
        "                scheduler=scheduler,\n",
        "                train_sequence=train_int_sequence,\n",
        "                val_sequence=val_int_sequence,\n",
        "                sequence_length=50,\n",
        "                batch_size=128,\n",
        "                epochs=20,\n",
        "                patience=5,\n",
        "                name='gpt2_with_trainable_head')"
      ],
      "metadata": {
        "colab": {
          "base_uri": "https://localhost:8080/"
        },
        "id": "odrVV6_XGElz",
        "outputId": "8ec1fe4b-ad9f-48e4-e9d3-3a28a2a69cb0"
      },
      "id": "odrVV6_XGElz",
      "execution_count": null,
      "outputs": [
        {
          "output_type": "stream",
          "name": "stdout",
          "text": [
            "Device: cuda:0\n"
          ]
        }
      ]
    },
    {
      "cell_type": "code",
      "source": [
        "train_loss, val_loss, checkpoints = instance.training()"
      ],
      "metadata": {
        "id": "rwkNKIXXJmqx",
        "colab": {
          "base_uri": "https://localhost:8080/"
        },
        "outputId": "186b3919-fbb5-431f-bc65-50365cc50c3d"
      },
      "id": "rwkNKIXXJmqx",
      "execution_count": null,
      "outputs": [
        {
          "output_type": "stream",
          "name": "stdout",
          "text": [
            "Starting training..\n",
            "  lr value 0.001\n",
            "Epoch: 1/20 - Perplexity: training 867.027, validation 201.092\n",
            "  lr value 0.001\n",
            "Epoch: 2/20 - Perplexity: training 214.392, validation 181.622 - E.S. checkpoint\n",
            "  lr value 0.001\n",
            "Epoch: 3/20 - Perplexity: training 144.452, validation 177.499 - E.S. checkpoint\n",
            "  lr value 0.0005\n",
            "Epoch: 4/20 - Perplexity: training 87.742, validation 127.403 - E.S. checkpoint\n",
            "  lr value 0.0005\n",
            "Epoch: 5/20 - Perplexity: training 74.805, validation 127.506\n",
            "  lr value 0.0005\n",
            "Epoch: 6/20 - Perplexity: training 67.073, validation 128.349\n",
            "  lr value 0.00025\n",
            "Epoch: 7/20 - Perplexity: training 54.771, validation 116.973 - E.S. checkpoint\n",
            "  lr value 0.00025\n",
            "Epoch: 8/20 - Perplexity: training 51.541, validation 117.038\n",
            "  lr value 0.00025\n",
            "Epoch: 9/20 - Perplexity: training 49.338, validation 117.294\n",
            "  lr value 0.000125\n",
            "Epoch: 10/20 - Perplexity: training 44.673, validation 113.627 - E.S. checkpoint\n",
            "  lr value 0.000125\n",
            "Epoch: 11/20 - Perplexity: training 43.324, validation 113.727\n",
            "  lr value 0.000125\n",
            "Epoch: 12/20 - Perplexity: training 42.466, validation 113.846\n",
            "  lr value 6.25e-05\n",
            "Epoch: 13/20 - Perplexity: training 40.254, validation 111.825 - E.S. checkpoint\n",
            "  lr value 6.25e-05\n",
            "Epoch: 14/20 - Perplexity: training 39.602, validation 111.803 - E.S. checkpoint\n",
            "  lr value 6.25e-05\n",
            "Epoch: 15/20 - Perplexity: training 39.200, validation 111.867\n",
            "  lr value 3.125e-05\n",
            "Epoch: 16/20 - Perplexity: training 37.991, validation 111.386 - E.S. checkpoint\n",
            "  lr value 3.125e-05\n",
            "Epoch: 17/20 - Perplexity: training 37.673, validation 111.393\n",
            "  lr value 3.125e-05\n",
            "Epoch: 18/20 - Perplexity: training 37.492, validation 111.411\n",
            "  lr value 1.5625e-05\n",
            "Epoch: 19/20 - Perplexity: training 36.838, validation 111.265 - E.S. checkpoint\n",
            "  lr value 1.5625e-05\n",
            "Epoch: 20/20 - Perplexity: training 36.676, validation 111.279\n",
            "Training complete !\n"
          ]
        }
      ]
    },
    {
      "cell_type": "code",
      "source": [
        "instance = Train(model=gpt2_model,\n",
        "                 model_type = 'transformer',\n",
        "                 loss_fct=criterion,\n",
        "                 optimizer=optimizer,\n",
        "                 scheduler=None,\n",
        "                 train_sequence=val_int_sequence,\n",
        "                 val_sequence=None,\n",
        "                 sequence_length=50,\n",
        "                 batch_size=128,\n",
        "                 epochs=19,\n",
        "                 patience=None,\n",
        "                 name=None)\n",
        "\n",
        "train_loss_of_val_data = instance.training()"
      ],
      "metadata": {
        "colab": {
          "base_uri": "https://localhost:8080/"
        },
        "id": "Ko32wrdnaAJh",
        "outputId": "8e22628c-7cff-4787-fa47-0d43b07290d9"
      },
      "id": "Ko32wrdnaAJh",
      "execution_count": null,
      "outputs": [
        {
          "output_type": "stream",
          "name": "stdout",
          "text": [
            "Device: cuda:0\n",
            "Starting training..\n",
            "No validation data is used.\n",
            "Epoch: 1/19 - Perplexity: training 115.754\n",
            "Epoch: 2/19 - Perplexity: training 110.533\n",
            "Epoch: 3/19 - Perplexity: training 106.786\n",
            "Epoch: 4/19 - Perplexity: training 103.651\n",
            "Epoch: 5/19 - Perplexity: training 100.855\n",
            "Epoch: 6/19 - Perplexity: training 98.745\n",
            "Epoch: 7/19 - Perplexity: training 96.999\n",
            "Epoch: 8/19 - Perplexity: training 94.992\n",
            "Epoch: 9/19 - Perplexity: training 93.484\n",
            "Epoch: 10/19 - Perplexity: training 92.109\n",
            "Epoch: 11/19 - Perplexity: training 90.636\n",
            "Epoch: 12/19 - Perplexity: training 89.499\n",
            "Epoch: 13/19 - Perplexity: training 88.240\n",
            "Epoch: 14/19 - Perplexity: training 87.096\n",
            "Epoch: 15/19 - Perplexity: training 86.105\n",
            "Epoch: 16/19 - Perplexity: training 85.066\n",
            "Epoch: 17/19 - Perplexity: training 84.311\n",
            "Epoch: 18/19 - Perplexity: training 83.439\n",
            "Epoch: 19/19 - Perplexity: training 82.464\n",
            "Training complete !\n"
          ]
        }
      ]
    },
    {
      "cell_type": "code",
      "source": [
        "torch.save(gpt2_model, 'model_epoch19_gpt2_with_trainable_head.pth')"
      ],
      "metadata": {
        "id": "ugQuP7c6aJjP"
      },
      "id": "ugQuP7c6aJjP",
      "execution_count": null,
      "outputs": []
    },
    {
      "cell_type": "markdown",
      "source": [
        "#### Perplexity"
      ],
      "metadata": {
        "id": "KQR8QlHCzJmN"
      },
      "id": "KQR8QlHCzJmN"
    },
    {
      "cell_type": "code",
      "source": [
        "perplexity_network_model(test_sequence_of_integers = test_int_sequence,\n",
        "                        sequence_length = 50,\n",
        "                        model = gpt2_model,\n",
        "                        model_type = 'transformer',\n",
        "                        loss_fct = nn.CrossEntropyLoss(),\n",
        "                        vocab_size = len(vocabulary))"
      ],
      "metadata": {
        "id": "WU7XtTC5GEox",
        "colab": {
          "base_uri": "https://localhost:8080/"
        },
        "outputId": "e4673239-7822-4631-dccb-fd8cdb283b9e"
      },
      "id": "WU7XtTC5GEox",
      "execution_count": null,
      "outputs": [
        {
          "output_type": "execute_result",
          "data": {
            "text/plain": [
              "139.0744322586039"
            ]
          },
          "metadata": {},
          "execution_count": 79
        }
      ]
    },
    {
      "cell_type": "code",
      "source": [],
      "metadata": {
        "id": "SNM0qwuMb7V-"
      },
      "id": "SNM0qwuMb7V-",
      "execution_count": null,
      "outputs": []
    }
  ],
  "metadata": {
    "colab": {
      "provenance": [],
      "gpuType": "T4",
      "include_colab_link": true
    },
    "kernelspec": {
      "display_name": "Python 3",
      "name": "python3"
    },
    "language_info": {
      "codemirror_mode": {
        "name": "ipython",
        "version": 3
      },
      "file_extension": ".py",
      "mimetype": "text/x-python",
      "name": "python",
      "nbconvert_exporter": "python",
      "pygments_lexer": "ipython3",
      "version": "3.8.8"
    },
    "accelerator": "GPU"
  },
  "nbformat": 4,
  "nbformat_minor": 5
}